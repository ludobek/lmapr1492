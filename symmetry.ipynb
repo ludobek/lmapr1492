{
 "cells": [
  {
   "cell_type": "markdown",
   "id": "05e2ef7c",
   "metadata": {},
   "source": [
    "# Tache 5"
   ]
  },
  {
   "cell_type": "markdown",
   "id": "9edc625b",
   "metadata": {},
   "source": [
    "Ludovic Delferiere 81232000"
   ]
  },
  {
   "cell_type": "markdown",
   "id": "438f27e0",
   "metadata": {},
   "source": [
    "Import et téléchargement du fichier "
   ]
  },
  {
   "cell_type": "code",
   "execution_count": 1,
   "id": "f502d2d1",
   "metadata": {
    "scrolled": true
   },
   "outputs": [],
   "source": [
    "import numpy as np\n",
    "from mp_api.client import MPRester\n",
    "from pymatgen.core.operations import SymmOp\n",
    "from pymatgen.symmetry.analyzer import SpacegroupAnalyzer\n",
    "from pymatgen.electronic_structure.plotter import BSPlotter\n",
    "from pymatgen.phonon.plotter import PhononBSPlotter\n",
    "from jupyter_jsmol.pymatgen import quick_view\n",
    "mp_key = \"hWWmIDodjhkgKVHj88m318vKs3nGtcQp\"\n",
    "mp_id = \"mp-1029\""
   ]
  },
  {
   "cell_type": "code",
   "execution_count": 2,
   "id": "ebdb198f",
   "metadata": {
    "scrolled": true
   },
   "outputs": [
    {
     "data": {
      "application/vnd.jupyter.widget-view+json": {
       "model_id": "4fdc122543c44a8489d69605006c0032",
       "version_major": 2,
       "version_minor": 0
      },
      "text/plain": [
       "Retrieving MaterialsDoc documents:   0%|          | 0/1 [00:00<?, ?it/s]"
      ]
     },
     "metadata": {},
     "output_type": "display_data"
    },
    {
     "data": {
      "application/vnd.jupyter.widget-view+json": {
       "model_id": "1d2c7b90ce7a42f18557f0e343af624a",
       "version_major": 2,
       "version_minor": 0
      },
      "text/plain": [
       "Retrieving ElectronicStructureDoc documents:   0%|          | 0/1 [00:00<?, ?it/s]"
      ]
     },
     "metadata": {},
     "output_type": "display_data"
    },
    {
     "data": {
      "application/vnd.jupyter.widget-view+json": {
       "model_id": "e978777e26724b4fa84013f4172f98d2",
       "version_major": 2,
       "version_minor": 0
      },
      "text/plain": [
       "Retrieving ElectronicStructureDoc documents:   0%|          | 0/1 [00:00<?, ?it/s]"
      ]
     },
     "metadata": {},
     "output_type": "display_data"
    },
    {
     "data": {
      "application/vnd.jupyter.widget-view+json": {
       "model_id": "324b722a99f84171b93b5067eb329bf7",
       "version_major": 2,
       "version_minor": 0
      },
      "text/plain": [
       "Retrieving PhononBSDOSDoc documents:   0%|          | 0/1 [00:00<?, ?it/s]"
      ]
     },
     "metadata": {},
     "output_type": "display_data"
    },
    {
     "data": {
      "application/vnd.jupyter.widget-view+json": {
       "model_id": "4e05a901d094474287addbe6e5350118",
       "version_major": 2,
       "version_minor": 0
      },
      "text/plain": [
       "Retrieving PhononBSDOSDoc documents:   0%|          | 0/1 [00:00<?, ?it/s]"
      ]
     },
     "metadata": {},
     "output_type": "display_data"
    }
   ],
   "source": [
    "with MPRester(mp_key) as m:\n",
    "    #récupération de la structure \n",
    "    prim_struc = m.get_structure_by_material_id(mp_id)\n",
    "    el_bs = m.get_bandstructure_by_material_id(mp_id)\n",
    "    el_dos = m.get_dos_by_material_id(mp_id)\n",
    "    ph_bs = m.get_phonon_bandstructure_by_material_id(mp_id)\n",
    "    ph_dos = m.get_phonon_dos_by_material_id(mp_id)\n",
    "conv_struc = SpacegroupAnalyzer(prim_struc).get_conventional_standard_structure() #conventionelle\n",
    "symmops = SpacegroupAnalyzer(conv_struc).get_space_group_operations() #operations du groupe"
   ]
  },
  {
   "cell_type": "markdown",
   "id": "f57cd18a",
   "metadata": {},
   "source": [
    "# Listage de toutes les opérations de symmétrie"
   ]
  },
  {
   "cell_type": "markdown",
   "id": "0b91f546",
   "metadata": {},
   "source": []
  },
  {
   "cell_type": "code",
   "execution_count": 3,
   "id": "aa45f6db",
   "metadata": {
    "scrolled": true
   },
   "outputs": [
    {
     "name": "stdout",
     "output_type": "stream",
     "text": [
      "Fm-3m (225) spacegroup\n",
      "[SymmOp(affine_matrix=array([[1., 0., 0., 0.],\n",
      "       [0., 1., 0., 0.],\n",
      "       [0., 0., 1., 0.],\n",
      "       [0., 0., 0., 1.]])), SymmOp(affine_matrix=array([[1., 0., 0., 0.],\n",
      "       [0., 1., 0., 0.],\n",
      "       [0., 0., 1., 0.],\n",
      "       [0., 0., 0., 1.]])), SymmOp(affine_matrix=array([[-1.,  0.,  0.,  0.],\n",
      "       [ 0., -1.,  0.,  0.],\n",
      "       [ 0.,  0., -1.,  0.],\n",
      "       [ 0.,  0.,  0.,  1.]])), SymmOp(affine_matrix=array([[-1.,  0.,  0.,  0.],\n",
      "       [ 0., -1.,  0.,  0.],\n",
      "       [ 0.,  0., -1.,  0.],\n",
      "       [ 0.,  0.,  0.,  1.]])), SymmOp(affine_matrix=array([[ 0., -1.,  0.,  0.],\n",
      "       [ 1.,  1.,  1.,  0.],\n",
      "       [-1.,  0.,  0.,  0.],\n",
      "       [ 0.,  0.,  0.,  1.]])), SymmOp(affine_matrix=array([[ 0., -1.,  0.,  0.],\n",
      "       [ 1.,  1.,  1.,  0.],\n",
      "       [-1.,  0.,  0.,  0.],\n",
      "       [ 0.,  0.,  0.,  1.]])), SymmOp(affine_matrix=array([[ 0.,  1.,  0.,  0.],\n",
      "       [-1., -1., -1.,  0.],\n",
      "       [ 1.,  0.,  0.,  0.],\n",
      "       [ 0.,  0.,  0.,  1.]])), SymmOp(affine_matrix=array([[ 0.,  1.,  0.,  0.],\n",
      "       [-1., -1., -1.,  0.],\n",
      "       [ 1.,  0.,  0.,  0.],\n",
      "       [ 0.,  0.,  0.,  1.]])), SymmOp(affine_matrix=array([[-1., -1., -1.,  0.],\n",
      "       [ 0.,  0.,  1.,  0.],\n",
      "       [ 0.,  1.,  0.,  0.],\n",
      "       [ 0.,  0.,  0.,  1.]])), SymmOp(affine_matrix=array([[-1., -1., -1.,  0.],\n",
      "       [ 0.,  0.,  1.,  0.],\n",
      "       [ 0.,  1.,  0.,  0.],\n",
      "       [ 0.,  0.,  0.,  1.]])), SymmOp(affine_matrix=array([[ 1.,  1.,  1.,  0.],\n",
      "       [ 0.,  0., -1.,  0.],\n",
      "       [ 0., -1.,  0.,  0.],\n",
      "       [ 0.,  0.,  0.,  1.]])), SymmOp(affine_matrix=array([[ 1.,  1.,  1.,  0.],\n",
      "       [ 0.,  0., -1.,  0.],\n",
      "       [ 0., -1.,  0.,  0.],\n",
      "       [ 0.,  0.,  0.,  1.]])), SymmOp(affine_matrix=array([[ 0.,  0., -1.,  0.],\n",
      "       [-1.,  0.,  0.,  0.],\n",
      "       [ 1.,  1.,  1.,  0.],\n",
      "       [ 0.,  0.,  0.,  1.]])), SymmOp(affine_matrix=array([[ 0.,  0., -1.,  0.],\n",
      "       [-1.,  0.,  0.,  0.],\n",
      "       [ 1.,  1.,  1.,  0.],\n",
      "       [ 0.,  0.,  0.,  1.]])), SymmOp(affine_matrix=array([[ 0.,  0.,  1.,  0.],\n",
      "       [ 1.,  0.,  0.,  0.],\n",
      "       [-1., -1., -1.,  0.],\n",
      "       [ 0.,  0.,  0.,  1.]])), SymmOp(affine_matrix=array([[ 0.,  0.,  1.,  0.],\n",
      "       [ 1.,  0.,  0.,  0.],\n",
      "       [-1., -1., -1.,  0.],\n",
      "       [ 0.,  0.,  0.,  1.]])), SymmOp(affine_matrix=array([[ 0.,  1.,  0.,  0.],\n",
      "       [ 1.,  0.,  0.,  0.],\n",
      "       [-1., -1., -1.,  0.],\n",
      "       [ 0.,  0.,  0.,  1.]])), SymmOp(affine_matrix=array([[ 0.,  1.,  0.,  0.],\n",
      "       [ 1.,  0.,  0.,  0.],\n",
      "       [-1., -1., -1.,  0.],\n",
      "       [ 0.,  0.,  0.,  1.]])), SymmOp(affine_matrix=array([[ 0., -1.,  0.,  0.],\n",
      "       [-1.,  0.,  0.,  0.],\n",
      "       [ 1.,  1.,  1.,  0.],\n",
      "       [ 0.,  0.,  0.,  1.]])), SymmOp(affine_matrix=array([[ 0., -1.,  0.,  0.],\n",
      "       [-1.,  0.,  0.,  0.],\n",
      "       [ 1.,  1.,  1.,  0.],\n",
      "       [ 0.,  0.,  0.,  1.]])), SymmOp(affine_matrix=array([[ 1.,  1.,  1.,  0.],\n",
      "       [ 0., -1.,  0.,  0.],\n",
      "       [ 0.,  0., -1.,  0.],\n",
      "       [ 0.,  0.,  0.,  1.]])), SymmOp(affine_matrix=array([[ 1.,  1.,  1.,  0.],\n",
      "       [ 0., -1.,  0.,  0.],\n",
      "       [ 0.,  0., -1.,  0.],\n",
      "       [ 0.,  0.,  0.,  1.]])), SymmOp(affine_matrix=array([[-1., -1., -1.,  0.],\n",
      "       [ 0.,  1.,  0.,  0.],\n",
      "       [ 0.,  0.,  1.,  0.],\n",
      "       [ 0.,  0.,  0.,  1.]])), SymmOp(affine_matrix=array([[-1., -1., -1.,  0.],\n",
      "       [ 0.,  1.,  0.,  0.],\n",
      "       [ 0.,  0.,  1.,  0.],\n",
      "       [ 0.,  0.,  0.,  1.]])), SymmOp(affine_matrix=array([[ 0.,  0.,  1.,  0.],\n",
      "       [-1., -1., -1.,  0.],\n",
      "       [ 1.,  0.,  0.,  0.],\n",
      "       [ 0.,  0.,  0.,  1.]])), SymmOp(affine_matrix=array([[ 0.,  0.,  1.,  0.],\n",
      "       [-1., -1., -1.,  0.],\n",
      "       [ 1.,  0.,  0.,  0.],\n",
      "       [ 0.,  0.,  0.,  1.]])), SymmOp(affine_matrix=array([[ 0.,  0., -1.,  0.],\n",
      "       [ 1.,  1.,  1.,  0.],\n",
      "       [-1.,  0.,  0.,  0.],\n",
      "       [ 0.,  0.,  0.,  1.]])), SymmOp(affine_matrix=array([[ 0.,  0., -1.,  0.],\n",
      "       [ 1.,  1.,  1.,  0.],\n",
      "       [-1.,  0.,  0.,  0.],\n",
      "       [ 0.,  0.,  0.,  1.]])), SymmOp(affine_matrix=array([[-1.,  0.,  0.,  0.],\n",
      "       [ 0.,  0., -1.,  0.],\n",
      "       [ 0., -1.,  0.,  0.],\n",
      "       [ 0.,  0.,  0.,  1.]])), SymmOp(affine_matrix=array([[-1.,  0.,  0.,  0.],\n",
      "       [ 0.,  0., -1.,  0.],\n",
      "       [ 0., -1.,  0.,  0.],\n",
      "       [ 0.,  0.,  0.,  1.]])), SymmOp(affine_matrix=array([[1., 0., 0., 0.],\n",
      "       [0., 0., 1., 0.],\n",
      "       [0., 1., 0., 0.],\n",
      "       [0., 0., 0., 1.]])), SymmOp(affine_matrix=array([[1., 0., 0., 0.],\n",
      "       [0., 0., 1., 0.],\n",
      "       [0., 1., 0., 0.],\n",
      "       [0., 0., 0., 1.]])), SymmOp(affine_matrix=array([[ 0.,  0.,  1.,  0.],\n",
      "       [ 0.,  1.,  0.,  0.],\n",
      "       [-1., -1., -1.,  0.],\n",
      "       [ 0.,  0.,  0.,  1.]])), SymmOp(affine_matrix=array([[ 0.,  0.,  1.,  0.],\n",
      "       [ 0.,  1.,  0.,  0.],\n",
      "       [-1., -1., -1.,  0.],\n",
      "       [ 0.,  0.,  0.,  1.]])), SymmOp(affine_matrix=array([[ 0.,  0., -1.,  0.],\n",
      "       [ 0., -1.,  0.,  0.],\n",
      "       [ 1.,  1.,  1.,  0.],\n",
      "       [ 0.,  0.,  0.,  1.]])), SymmOp(affine_matrix=array([[ 0.,  0., -1.,  0.],\n",
      "       [ 0., -1.,  0.,  0.],\n",
      "       [ 1.,  1.,  1.,  0.],\n",
      "       [ 0.,  0.,  0.,  1.]])), SymmOp(affine_matrix=array([[-1.,  0.,  0.,  0.],\n",
      "       [ 1.,  1.,  1.,  0.],\n",
      "       [ 0.,  0., -1.,  0.],\n",
      "       [ 0.,  0.,  0.,  1.]])), SymmOp(affine_matrix=array([[-1.,  0.,  0.,  0.],\n",
      "       [ 1.,  1.,  1.,  0.],\n",
      "       [ 0.,  0., -1.,  0.],\n",
      "       [ 0.,  0.,  0.,  1.]])), SymmOp(affine_matrix=array([[ 1.,  0.,  0.,  0.],\n",
      "       [-1., -1., -1.,  0.],\n",
      "       [ 0.,  0.,  1.,  0.],\n",
      "       [ 0.,  0.,  0.,  1.]])), SymmOp(affine_matrix=array([[ 1.,  0.,  0.,  0.],\n",
      "       [-1., -1., -1.,  0.],\n",
      "       [ 0.,  0.,  1.,  0.],\n",
      "       [ 0.,  0.,  0.,  1.]])), SymmOp(affine_matrix=array([[0., 1., 0., 0.],\n",
      "       [0., 0., 1., 0.],\n",
      "       [1., 0., 0., 0.],\n",
      "       [0., 0., 0., 1.]])), SymmOp(affine_matrix=array([[0., 1., 0., 0.],\n",
      "       [0., 0., 1., 0.],\n",
      "       [1., 0., 0., 0.],\n",
      "       [0., 0., 0., 1.]])), SymmOp(affine_matrix=array([[ 0., -1.,  0.,  0.],\n",
      "       [ 0.,  0., -1.,  0.],\n",
      "       [-1.,  0.,  0.,  0.],\n",
      "       [ 0.,  0.,  0.,  1.]])), SymmOp(affine_matrix=array([[ 0., -1.,  0.,  0.],\n",
      "       [ 0.,  0., -1.,  0.],\n",
      "       [-1.,  0.,  0.,  0.],\n",
      "       [ 0.,  0.,  0.,  1.]])), SymmOp(affine_matrix=array([[ 1.,  1.,  1.,  0.],\n",
      "       [-1.,  0.,  0.,  0.],\n",
      "       [ 0., -1.,  0.,  0.],\n",
      "       [ 0.,  0.,  0.,  1.]])), SymmOp(affine_matrix=array([[ 1.,  1.,  1.,  0.],\n",
      "       [-1.,  0.,  0.,  0.],\n",
      "       [ 0., -1.,  0.,  0.],\n",
      "       [ 0.,  0.,  0.,  1.]])), SymmOp(affine_matrix=array([[-1., -1., -1.,  0.],\n",
      "       [ 1.,  0.,  0.,  0.],\n",
      "       [ 0.,  1.,  0.,  0.],\n",
      "       [ 0.,  0.,  0.,  1.]])), SymmOp(affine_matrix=array([[-1., -1., -1.,  0.],\n",
      "       [ 1.,  0.,  0.,  0.],\n",
      "       [ 0.,  1.,  0.,  0.],\n",
      "       [ 0.,  0.,  0.,  1.]])), SymmOp(affine_matrix=array([[-1., -1., -1.,  0.],\n",
      "       [ 1.,  0.,  0.,  0.],\n",
      "       [ 0.,  0.,  1.,  0.],\n",
      "       [ 0.,  0.,  0.,  1.]])), SymmOp(affine_matrix=array([[-1., -1., -1.,  0.],\n",
      "       [ 1.,  0.,  0.,  0.],\n",
      "       [ 0.,  0.,  1.,  0.],\n",
      "       [ 0.,  0.,  0.,  1.]])), SymmOp(affine_matrix=array([[ 1.,  1.,  1.,  0.],\n",
      "       [-1.,  0.,  0.,  0.],\n",
      "       [ 0.,  0., -1.,  0.],\n",
      "       [ 0.,  0.,  0.,  1.]])), SymmOp(affine_matrix=array([[ 1.,  1.,  1.,  0.],\n",
      "       [-1.,  0.,  0.,  0.],\n",
      "       [ 0.,  0., -1.,  0.],\n",
      "       [ 0.,  0.,  0.,  1.]])), SymmOp(affine_matrix=array([[ 0.,  0., -1.,  0.],\n",
      "       [ 0., -1.,  0.,  0.],\n",
      "       [-1.,  0.,  0.,  0.],\n",
      "       [ 0.,  0.,  0.,  1.]])), SymmOp(affine_matrix=array([[ 0.,  0., -1.,  0.],\n",
      "       [ 0., -1.,  0.,  0.],\n",
      "       [-1.,  0.,  0.,  0.],\n",
      "       [ 0.,  0.,  0.,  1.]])), SymmOp(affine_matrix=array([[0., 0., 1., 0.],\n",
      "       [0., 1., 0., 0.],\n",
      "       [1., 0., 0., 0.],\n",
      "       [0., 0., 0., 1.]])), SymmOp(affine_matrix=array([[0., 0., 1., 0.],\n",
      "       [0., 1., 0., 0.],\n",
      "       [1., 0., 0., 0.],\n",
      "       [0., 0., 0., 1.]])), SymmOp(affine_matrix=array([[ 1.,  0.,  0.,  0.],\n",
      "       [-1., -1., -1.,  0.],\n",
      "       [ 0.,  1.,  0.,  0.],\n",
      "       [ 0.,  0.,  0.,  1.]])), SymmOp(affine_matrix=array([[ 1.,  0.,  0.,  0.],\n",
      "       [-1., -1., -1.,  0.],\n",
      "       [ 0.,  1.,  0.,  0.],\n",
      "       [ 0.,  0.,  0.,  1.]])), SymmOp(affine_matrix=array([[-1.,  0.,  0.,  0.],\n",
      "       [ 1.,  1.,  1.,  0.],\n",
      "       [ 0., -1.,  0.,  0.],\n",
      "       [ 0.,  0.,  0.,  1.]])), SymmOp(affine_matrix=array([[-1.,  0.,  0.,  0.],\n",
      "       [ 1.,  1.,  1.,  0.],\n",
      "       [ 0., -1.,  0.,  0.],\n",
      "       [ 0.,  0.,  0.,  1.]])), SymmOp(affine_matrix=array([[ 0., -1.,  0.,  0.],\n",
      "       [ 0.,  0., -1.,  0.],\n",
      "       [ 1.,  1.,  1.,  0.],\n",
      "       [ 0.,  0.,  0.,  1.]])), SymmOp(affine_matrix=array([[ 0., -1.,  0.,  0.],\n",
      "       [ 0.,  0., -1.,  0.],\n",
      "       [ 1.,  1.,  1.,  0.],\n",
      "       [ 0.,  0.,  0.,  1.]])), SymmOp(affine_matrix=array([[ 0.,  1.,  0.,  0.],\n",
      "       [ 0.,  0.,  1.,  0.],\n",
      "       [-1., -1., -1.,  0.],\n",
      "       [ 0.,  0.,  0.,  1.]])), SymmOp(affine_matrix=array([[ 0.,  1.,  0.,  0.],\n",
      "       [ 0.,  0.,  1.,  0.],\n",
      "       [-1., -1., -1.,  0.],\n",
      "       [ 0.,  0.,  0.,  1.]])), SymmOp(affine_matrix=array([[-1., -1., -1.,  0.],\n",
      "       [ 0.,  1.,  0.,  0.],\n",
      "       [ 1.,  0.,  0.,  0.],\n",
      "       [ 0.,  0.,  0.,  1.]])), SymmOp(affine_matrix=array([[-1., -1., -1.,  0.],\n",
      "       [ 0.,  1.,  0.,  0.],\n",
      "       [ 1.,  0.,  0.,  0.],\n",
      "       [ 0.,  0.,  0.,  1.]])), SymmOp(affine_matrix=array([[ 1.,  1.,  1.,  0.],\n",
      "       [ 0., -1.,  0.,  0.],\n",
      "       [-1.,  0.,  0.,  0.],\n",
      "       [ 0.,  0.,  0.,  1.]])), SymmOp(affine_matrix=array([[ 1.,  1.,  1.,  0.],\n",
      "       [ 0., -1.,  0.,  0.],\n",
      "       [-1.,  0.,  0.,  0.],\n",
      "       [ 0.,  0.,  0.,  1.]])), SymmOp(affine_matrix=array([[ 0.,  0., -1.,  0.],\n",
      "       [ 1.,  1.,  1.,  0.],\n",
      "       [ 0., -1.,  0.,  0.],\n",
      "       [ 0.,  0.,  0.,  1.]])), SymmOp(affine_matrix=array([[ 0.,  0., -1.,  0.],\n",
      "       [ 1.,  1.,  1.,  0.],\n",
      "       [ 0., -1.,  0.,  0.],\n",
      "       [ 0.,  0.,  0.,  1.]])), SymmOp(affine_matrix=array([[ 0.,  0.,  1.,  0.],\n",
      "       [-1., -1., -1.,  0.],\n",
      "       [ 0.,  1.,  0.,  0.],\n",
      "       [ 0.,  0.,  0.,  1.]])), SymmOp(affine_matrix=array([[ 0.,  0.,  1.,  0.],\n",
      "       [-1., -1., -1.,  0.],\n",
      "       [ 0.,  1.,  0.,  0.],\n",
      "       [ 0.,  0.,  0.,  1.]])), SymmOp(affine_matrix=array([[ 1.,  0.,  0.,  0.],\n",
      "       [ 0.,  0.,  1.,  0.],\n",
      "       [-1., -1., -1.,  0.],\n",
      "       [ 0.,  0.,  0.,  1.]])), SymmOp(affine_matrix=array([[ 1.,  0.,  0.,  0.],\n",
      "       [ 0.,  0.,  1.,  0.],\n",
      "       [-1., -1., -1.,  0.],\n",
      "       [ 0.,  0.,  0.,  1.]])), SymmOp(affine_matrix=array([[-1.,  0.,  0.,  0.],\n",
      "       [ 0.,  0., -1.,  0.],\n",
      "       [ 1.,  1.,  1.,  0.],\n",
      "       [ 0.,  0.,  0.,  1.]])), SymmOp(affine_matrix=array([[-1.,  0.,  0.,  0.],\n",
      "       [ 0.,  0., -1.,  0.],\n",
      "       [ 1.,  1.,  1.,  0.],\n",
      "       [ 0.,  0.,  0.,  1.]])), SymmOp(affine_matrix=array([[ 0., -1.,  0.,  0.],\n",
      "       [-1.,  0.,  0.,  0.],\n",
      "       [ 0.,  0., -1.,  0.],\n",
      "       [ 0.,  0.,  0.,  1.]])), SymmOp(affine_matrix=array([[ 0., -1.,  0.,  0.],\n",
      "       [-1.,  0.,  0.,  0.],\n",
      "       [ 0.,  0., -1.,  0.],\n",
      "       [ 0.,  0.,  0.,  1.]])), SymmOp(affine_matrix=array([[0., 1., 0., 0.],\n",
      "       [1., 0., 0., 0.],\n",
      "       [0., 0., 1., 0.],\n",
      "       [0., 0., 0., 1.]])), SymmOp(affine_matrix=array([[0., 1., 0., 0.],\n",
      "       [1., 0., 0., 0.],\n",
      "       [0., 0., 1., 0.],\n",
      "       [0., 0., 0., 1.]])), SymmOp(affine_matrix=array([[0., 0., 1., 0.],\n",
      "       [1., 0., 0., 0.],\n",
      "       [0., 1., 0., 0.],\n",
      "       [0., 0., 0., 1.]])), SymmOp(affine_matrix=array([[0., 0., 1., 0.],\n",
      "       [1., 0., 0., 0.],\n",
      "       [0., 1., 0., 0.],\n",
      "       [0., 0., 0., 1.]])), SymmOp(affine_matrix=array([[ 0.,  0., -1.,  0.],\n",
      "       [-1.,  0.,  0.,  0.],\n",
      "       [ 0., -1.,  0.,  0.],\n",
      "       [ 0.,  0.,  0.,  1.]])), SymmOp(affine_matrix=array([[ 0.,  0., -1.,  0.],\n",
      "       [-1.,  0.,  0.,  0.],\n",
      "       [ 0., -1.,  0.,  0.],\n",
      "       [ 0.,  0.,  0.,  1.]])), SymmOp(affine_matrix=array([[-1.,  0.,  0.,  0.],\n",
      "       [ 0., -1.,  0.,  0.],\n",
      "       [ 1.,  1.,  1.,  0.],\n",
      "       [ 0.,  0.,  0.,  1.]])), SymmOp(affine_matrix=array([[-1.,  0.,  0.,  0.],\n",
      "       [ 0., -1.,  0.,  0.],\n",
      "       [ 1.,  1.,  1.,  0.],\n",
      "       [ 0.,  0.,  0.,  1.]])), SymmOp(affine_matrix=array([[ 1.,  0.,  0.,  0.],\n",
      "       [ 0.,  1.,  0.,  0.],\n",
      "       [-1., -1., -1.,  0.],\n",
      "       [ 0.,  0.,  0.,  1.]])), SymmOp(affine_matrix=array([[ 1.,  0.,  0.,  0.],\n",
      "       [ 0.,  1.,  0.,  0.],\n",
      "       [-1., -1., -1.,  0.],\n",
      "       [ 0.,  0.,  0.,  1.]])), SymmOp(affine_matrix=array([[ 0.,  1.,  0.,  0.],\n",
      "       [-1., -1., -1.,  0.],\n",
      "       [ 0.,  0.,  1.,  0.],\n",
      "       [ 0.,  0.,  0.,  1.]])), SymmOp(affine_matrix=array([[ 0.,  1.,  0.,  0.],\n",
      "       [-1., -1., -1.,  0.],\n",
      "       [ 0.,  0.,  1.,  0.],\n",
      "       [ 0.,  0.,  0.,  1.]])), SymmOp(affine_matrix=array([[ 0., -1.,  0.,  0.],\n",
      "       [ 1.,  1.,  1.,  0.],\n",
      "       [ 0.,  0., -1.,  0.],\n",
      "       [ 0.,  0.,  0.,  1.]])), SymmOp(affine_matrix=array([[ 0., -1.,  0.,  0.],\n",
      "       [ 1.,  1.,  1.,  0.],\n",
      "       [ 0.,  0., -1.,  0.],\n",
      "       [ 0.,  0.,  0.,  1.]])), SymmOp(affine_matrix=array([[ 1.,  1.,  1.,  0.],\n",
      "       [ 0.,  0., -1.,  0.],\n",
      "       [-1.,  0.,  0.,  0.],\n",
      "       [ 0.,  0.,  0.,  1.]])), SymmOp(affine_matrix=array([[ 1.,  1.,  1.,  0.],\n",
      "       [ 0.,  0., -1.,  0.],\n",
      "       [-1.,  0.,  0.,  0.],\n",
      "       [ 0.,  0.,  0.,  1.]])), SymmOp(affine_matrix=array([[-1., -1., -1.,  0.],\n",
      "       [ 0.,  0.,  1.,  0.],\n",
      "       [ 1.,  0.,  0.,  0.],\n",
      "       [ 0.,  0.,  0.,  1.]])), SymmOp(affine_matrix=array([[-1., -1., -1.,  0.],\n",
      "       [ 0.,  0.,  1.,  0.],\n",
      "       [ 1.,  0.,  0.,  0.],\n",
      "       [ 0.,  0.,  0.,  1.]]))]\n"
     ]
    }
   ],
   "source": [
    "print(symmops) #permet de connaitre le groupe spatial\n",
    "analyse=SpacegroupAnalyzer(prim_struc)\n",
    "print(analyse.get_symmetry_operations()) #permet d'avoir les opérations de symétrie \n",
    "listeofsym = analyse.get_symmetry_operations()\n"
   ]
  },
  {
   "cell_type": "markdown",
   "id": "2d6f7c1c",
   "metadata": {},
   "source": [
    "# Affichage des sites de la structure conventionelle"
   ]
  },
  {
   "cell_type": "code",
   "execution_count": 4,
   "id": "f480473b",
   "metadata": {},
   "outputs": [
    {
     "name": "stdout",
     "output_type": "stream",
     "text": [
      "[PeriodicSite: Ba (0.0, 0.0, 0.0) [0.0, 0.0, 0.0], PeriodicSite: Ba (5.006e-16, 3.113, 3.113) [0.0, 0.5, 0.5], PeriodicSite: Ba (3.113, 0.0, 3.113) [0.5, 0.0, 0.5], PeriodicSite: Ba (3.113, 3.113, 3.812e-16) [0.5, 0.5, 0.0], PeriodicSite: F (4.669, 1.556, 4.669) [0.75, 0.25, 0.75], PeriodicSite: F (4.669, 1.556, 1.556) [0.75, 0.25, 0.25], PeriodicSite: F (4.669, 4.669, 1.556) [0.75, 0.75, 0.25], PeriodicSite: F (4.669, 4.669, 4.669) [0.75, 0.75, 0.75], PeriodicSite: F (1.556, 1.556, 1.556) [0.25, 0.25, 0.25], PeriodicSite: F (1.556, 1.556, 4.669) [0.25, 0.25, 0.75], PeriodicSite: F (1.556, 4.669, 4.669) [0.25, 0.75, 0.75], PeriodicSite: F (1.556, 4.669, 1.556) [0.25, 0.75, 0.25]]\n"
     ]
    }
   ],
   "source": [
    "sites = conv_struc.sites  \n",
    "print(sites)"
   ]
  },
  {
   "cell_type": "markdown",
   "id": "e6a1744f",
   "metadata": {},
   "source": [
    "# Opérations de symmétrie 1 sur Ba"
   ]
  },
  {
   "cell_type": "code",
   "execution_count": 5,
   "id": "7272b070",
   "metadata": {},
   "outputs": [
    {
     "name": "stdout",
     "output_type": "stream",
     "text": [
      "Opération de symmétrie n°1:\n",
      "(x, y, z) -> (z, y, x)\n",
      "\n",
      "Matrice de rotation:\n",
      "[[0. 0. 1.]\n",
      " [0. 1. 0.]\n",
      " [1. 0. 0.]]\n",
      "\n",
      "Translation:\n",
      "[0. 0. 0.]\n"
     ]
    }
   ],
   "source": [
    "symm_1 = listeofsym[54]\n",
    "\n",
    "print(\"Opération de symmétrie n°1:\")\n",
    "print(\"(x, y, z) -> (\" + str(symm_1.as_xyz_str())+ \")\")\n",
    "\n",
    "print(\"\\nMatrice de rotation:\")\n",
    "print(symm_1.rotation_matrix)\n",
    "\n",
    "print(\"\\nTranslation:\")\n",
    "print(symm_1.translation_vector)"
   ]
  },
  {
   "cell_type": "code",
   "execution_count": 6,
   "id": "ddedf591",
   "metadata": {},
   "outputs": [
    {
     "name": "stdout",
     "output_type": "stream",
     "text": [
      "Coordonnées Ba initial :\n",
      "[0.0, 0.0, 0.0]\n",
      "\n",
      "Coordonnées Ba après opération :\n",
      "[0. 0. 0.]\n",
      "Coordonnées d'un autre Ba situé en :\n",
      "[0.0, 0.5, 0.5]\n",
      "\n",
      "Coordonnées Ba après opération :\n",
      "[0.5 0.5 0. ]\n"
     ]
    }
   ],
   "source": [
    "print(\"Coordonnées Ba initial :\")\n",
    "positioninitiale_1 = [0.0, 0.0, 0.0]\n",
    "print(positioninitiale_1)\n",
    "\n",
    "print(\"\\nCoordonnées Ba après opération :\")\n",
    "\n",
    "print(symm_1.operate(positioninitiale_1))\n",
    "#on va choisir un autre Ba pour voir l'effet de la symétrie\n",
    "print(\"Coordonnées d'un autre Ba situé en :\")\n",
    "positioninitiale_2 = [0.0,0.5,0.5]\n",
    "print(positioninitiale_2)\n",
    "print(\"\\nCoordonnées Ba après opération :\")\n",
    "print(symm_1.operate(positioninitiale_2))\n",
    "\n"
   ]
  },
  {
   "cell_type": "code",
   "execution_count": 7,
   "id": "c3a39184",
   "metadata": {
    "scrolled": true
   },
   "outputs": [
    {
     "data": {
      "application/vnd.jupyter.widget-view+json": {
       "model_id": "f217ce5ee10c40608e5f56f0c141f422",
       "version_major": 2,
       "version_minor": 0
      },
      "text/plain": [
       "JsmolView(layout=Layout(align_self='stretch', height='400px'))"
      ]
     },
     "metadata": {},
     "output_type": "display_data"
    }
   ],
   "source": [
    "view = quick_view(conv_struc)\n",
    "display(view) \n",
    "view.script('draw symop 55 {atomno = 1}')"
   ]
  },
  {
   "cell_type": "markdown",
   "id": "ee74a9b7",
   "metadata": {},
   "source": [
    "Il s'agit d'une symmétrie mirroir par rapport au plan xz (101)"
   ]
  },
  {
   "cell_type": "markdown",
   "id": "169ee98c",
   "metadata": {},
   "source": [
    "# Opération de symmétrie 2 sur un F"
   ]
  },
  {
   "cell_type": "code",
   "execution_count": 8,
   "id": "21f80137",
   "metadata": {},
   "outputs": [
    {
     "name": "stdout",
     "output_type": "stream",
     "text": [
      "Opération de symmétrie n°2:\n",
      "(x, y, z) -> (-z, -y, -x)\n",
      "\n",
      "Matrice de Rotation:\n",
      "[[ 0.  0. -1.]\n",
      " [ 0. -1.  0.]\n",
      " [-1.  0.  0.]]\n",
      "\n",
      "Vecteur de translation:\n",
      "[0. 0. 0.]\n"
     ]
    }
   ],
   "source": [
    "symm_2 = listeofsym[52]\n",
    "\n",
    "print(\"Opération de symmétrie n°2:\")\n",
    "print(\"(x, y, z) -> (\" + str(symm_2.as_xyz_str())+ \")\")\n",
    "\n",
    "print(\"\\nMatrice de Rotation:\")\n",
    "print(symm_2.rotation_matrix)\n",
    "\n",
    "print(\"\\nVecteur de translation:\")\n",
    "print(symm_2.translation_vector)"
   ]
  },
  {
   "cell_type": "code",
   "execution_count": 9,
   "id": "3a0228ae",
   "metadata": {},
   "outputs": [
    {
     "name": "stdout",
     "output_type": "stream",
     "text": [
      "Coordonnées F avant symmétrie :\n",
      "[0.75, 0.25, 0.75]\n",
      "\n",
      "Coordonnées F après opération :\n",
      "[-0.75 -0.25 -0.75]\n"
     ]
    }
   ],
   "source": [
    "print(\"Coordonnées F avant symmétrie :\")\n",
    "positioninitiale_2 = [0.75, 0.25, 0.75]\n",
    "print(positioninitiale_2)\n",
    "\n",
    "print(\"\\nCoordonnées F après opération :\")\n",
    "\n",
    "print(symm_2.operate(positioninitiale_2))"
   ]
  },
  {
   "cell_type": "code",
   "execution_count": 10,
   "id": "0e41bb5e",
   "metadata": {
    "scrolled": true
   },
   "outputs": [
    {
     "data": {
      "application/vnd.jupyter.widget-view+json": {
       "model_id": "792b22661a15447c8f0e0d1e712142e2",
       "version_major": 2,
       "version_minor": 0
      },
      "text/plain": [
       "JsmolView(layout=Layout(align_self='stretch', height='400px'))"
      ]
     },
     "metadata": {},
     "output_type": "display_data"
    }
   ],
   "source": [
    "view = quick_view(conv_struc)\n",
    "display(view) \n",
    "view.script('draw symop 53 {atomno = 2}')"
   ]
  },
  {
   "cell_type": "markdown",
   "id": "b5821866",
   "metadata": {},
   "source": [
    "Il s'agit d'une opération de roto-inversion, cette opération combine une rotation avec une inversion (une réflexion par rapport à l'origine)."
   ]
  },
  {
   "cell_type": "markdown",
   "id": "955817b3",
   "metadata": {},
   "source": [
    "# Opérations de symmetrie 3 sur un Ba"
   ]
  },
  {
   "cell_type": "code",
   "execution_count": 11,
   "id": "65b030cd",
   "metadata": {},
   "outputs": [
    {
     "name": "stdout",
     "output_type": "stream",
     "text": [
      "Opération de symmétrie n°3:\n",
      "(x, y, z) -> (z, x, y)\n",
      "\n",
      "Matrice de Rotation:\n",
      "[[0. 0. 1.]\n",
      " [1. 0. 0.]\n",
      " [0. 1. 0.]]\n",
      "\n",
      "Vecteur de translation:\n",
      "[0. 0. 0.]\n"
     ]
    }
   ],
   "source": [
    "symm_3 = listeofsym[80]\n",
    "    \n",
    "print(\"Opération de symmétrie n°3:\")\n",
    "print(\"(x, y, z) -> (\" + str(symm_3.as_xyz_str())+ \")\")\n",
    "\n",
    "print(\"\\nMatrice de Rotation:\")\n",
    "print(symm_3.rotation_matrix)\n",
    "\n",
    "print(\"\\nVecteur de translation:\")\n",
    "print(symm_3.translation_vector)"
   ]
  },
  {
   "cell_type": "code",
   "execution_count": 12,
   "id": "55cb9817",
   "metadata": {},
   "outputs": [
    {
     "name": "stdout",
     "output_type": "stream",
     "text": [
      "Coordonnées Ba avant symmétrie :\n",
      "[0.0, 0.5, 0.5]\n",
      "\n",
      "Coordonnées Ba après opération :\n",
      "[0.5 0.  0.5]\n"
     ]
    }
   ],
   "source": [
    "print(\"Coordonnées Ba avant symmétrie :\")\n",
    "positioninitiale_3 = [0.0, 0.5, 0.5]\n",
    "print(positioninitiale_3)\n",
    "\n",
    "print(\"\\nCoordonnées Ba après opération :\")\n",
    "\n",
    "print(symm_3.operate(positioninitiale_3))"
   ]
  },
  {
   "cell_type": "code",
   "execution_count": 13,
   "id": "0cc3f720",
   "metadata": {},
   "outputs": [
    {
     "data": {
      "application/vnd.jupyter.widget-view+json": {
       "model_id": "0814387e22cf4d3db8bc28913574ccab",
       "version_major": 2,
       "version_minor": 0
      },
      "text/plain": [
       "JsmolView(layout=Layout(align_self='stretch', height='400px'))"
      ]
     },
     "metadata": {},
     "output_type": "display_data"
    }
   ],
   "source": [
    "view = quick_view(conv_struc)\n",
    "display(view) \n",
    "view.script('draw symop 81 {atomno = 2}')"
   ]
  },
  {
   "cell_type": "markdown",
   "id": "2983c871",
   "metadata": {},
   "source": [
    "Il s'agit s'une rotation de 90° dans le sens horlogique, soit une rotation d'ordre 4."
   ]
  }
 ],
 "metadata": {
  "kernelspec": {
   "display_name": "Python 3 (ipykernel)",
   "language": "python",
   "name": "python3"
  },
  "language_info": {
   "codemirror_mode": {
    "name": "ipython",
    "version": 3
   },
   "file_extension": ".py",
   "mimetype": "text/x-python",
   "name": "python",
   "nbconvert_exporter": "python",
   "pygments_lexer": "ipython3",
   "version": "3.9.13"
  }
 },
 "nbformat": 4,
 "nbformat_minor": 5
}
